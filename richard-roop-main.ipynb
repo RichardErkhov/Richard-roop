{
  "cells": [
    {
      "attachments": {},
      "cell_type": "markdown",
      "metadata": {},
      "source": [
        "# 1-click deepfake\n",
        "\n",
        "accelerated version (in-memory video processing): https://github.com/RichardErkhov/Richard-roop\n",
        "\n",
        "`main` branch"
      ]
    },
    {
      "cell_type": "code",
      "execution_count": null,
      "metadata": {
        "cellView": "form"
      },
      "outputs": [],
      "source": [
        "#@markdown **GPU check** (free T4, premium V100 or A100)\n",
        "!nvidia-smi -L"
      ]
    },
    {
      "cell_type": "code",
      "execution_count": null,
      "metadata": {
        "cellView": "form"
      },
      "outputs": [],
      "source": [
        "#@markdown **Setup environment**\n",
        "\n",
        "%%bash\n",
        "\n",
        "# pip install -r roop/requirements.txt\n",
        "# pip uninstall onnxruntime\n",
        "# pip install onnxruntime-gpu\n",
        "pip install 'numpy>=1.23.5' tk onnxruntime-gpu opennsfw2 insightface codeformer-pip gfpgan --progress-bar off\n",
        "\n",
        "curl -sSL -o roop.zip https://github.com/RichardErkhov/Richard-roop/archive/main.zip\n",
        "unzip -q -o roop.zip\n",
        "rm roop.zip\n",
        "mv Richard-roop-main roop\n",
        "\n",
        "curl -L -o codeformer.zip https://github.com/janvarev/chain-img-plugin-codeformer/archive/main.zip\n",
        "unzip -q -o codeformer.zip\n",
        "rm codeformer.zip\n",
        "mv chain-img-plugin-codeformer-main/plugins/* roop/plugins\n",
        "rm -rf chain-img-plugin-codeformer-main\n",
        "\n",
        "mkdir -p roop/options"
      ]
    },
    {
      "cell_type": "code",
      "execution_count": null,
      "metadata": {
        "cellView": "form"
      },
      "outputs": [],
      "source": [
        "#@markdown **download models weights**\n",
        "\n",
        "%%bash\n",
        "\n",
        "download_model () {\n",
        "    wget -P $1 $2 --content-disposition --continue &> /dev/null\n",
        "}\n",
        "\n",
        "download_model roop/models https://huggingface.co/deepinsight/inswapper/resolve/main/inswapper_128.onnx\n",
        "download_model ~/.opennsfw2/weights https://github.com/bhky/opennsfw2/releases/download/v0.1.0/open_nsfw_weights.h5\n",
        "download_model ~/.insightface/models https://github.com/deepinsight/insightface/releases/download/v0.7/buffalo_l.zip\n",
        "\n",
        "# not in roop/ because path is incorrectly handled\n",
        "download_model models https://github.com/TencentARC/GFPGAN/releases/download/v1.3.0/GFPGANv1.3.pth\n",
        "download_model models https://github.com/TencentARC/GFPGAN/releases/download/v1.3.4/GFPGANv1.4.pth\n",
        "download_model gfpgan/weights https://github.com/xinntao/facexlib/releases/download/v0.1.0/detection_Resnet50_Final.pth\n",
        "download_model gfpgan/weights https://github.com/xinntao/facexlib/releases/download/v0.2.2/parsing_parsenet.pth\n",
        "\n",
        "codeformer_link='https://github.com/sczhou/CodeFormer/releases/download/v0.1.0'\n",
        "codeformer_path=$(python -c 'import codeformer as _; print(_.__path__[0])')/weights/facelib\n",
        "download_model CodeFormer/weights/CodeFormer $codeformer_link/codeformer.pth\n",
        "download_model CodeFormer/weights/realesrgan $codeformer_link/RealESRGAN_x2plus.pth\n",
        "download_model CodeFormer/weights/weights/facelib $codeformer_link/detection_Resnet50_Final.pth\n",
        "download_model CodeFormer/weights/weights/facelib $codeformer_link/parsing_parsenet.pth\n",
        "download_model $codeformer_path $codeformer_link/detection_Resnet50_Final.pth\n",
        "download_model $codeformer_path $codeformer_link/parsing_parsenet.pth\n",
        "\n",
        "cd ~/.insightface/models && unzip -q -o buffalo_l.zip -d buffalo_l"
      ]
    },
    {
      "attachments": {},
      "cell_type": "markdown",
      "metadata": {},
      "source": [
        "**ATTENTION:** after setup environment, you have to restart colab runtime\n",
        "\n",
        "without it, the program will likely fail"
      ]
    },
    {
      "cell_type": "code",
      "execution_count": null,
      "metadata": {
        "cellView": "form"
      },
      "outputs": [],
      "source": [
        "#@markdown **Swap face**\n",
        "\n",
        "#@markdown files name shouldn’t contain non-latin characters\n",
        "\n",
        "import json\n",
        "\n",
        "face_image = \"photo-1535644258845-185656906071.jpeg\"  # @param {type:\"string\"}\n",
        "video_file = \"yolo.webm\"  # @param {type:\"string\"}\n",
        "output_vid = \"swapped.mp4\"  # @param {type:\"string\"}\n",
        "keep_fps = True  # @param {type:\"boolean\"}\n",
        "swap_all_faces = False  # @param {type:\"boolean\"}\n",
        "#@markdown ↳ if disabled, only the leftmost face in each frame is replaced\n",
        "enhacer_GFPGAN = True  # @param {type:\"boolean\"}\n",
        "#@markdown ↳ if enable, enhance swapped faces but processing is slower\n",
        "enhacer_CodeFormer = False  # @param {type:\"boolean\"}\n",
        "#@markdown enhancer with more options (below) but much slower\n",
        "gpu_threads = 4  #@param {type:\"integer\"}\n",
        "#@markdown ↳ to be decreased if crash / out of memory error<br />\n",
        "#@markdown suggested value for colab free: 8 if disable enhancer, 6 if enable GFPGAN, 4 if enable CodeFormer<br />\n",
        "#@markdown if crash even with only 1 thread, try restarting runtime\n",
        "\n",
        "assert not (enhacer_GFPGAN and enhacer_CodeFormer), \"choose only 1 enhancer (GFPGAN or CodeFormer) or neither\"\n",
        "\n",
        "keep_fps_opt = \"--keep-fps\" if keep_fps else \"\"\n",
        "all_faces_opt = \"--all-faces\" if swap_all_faces else \"\"\n",
        "\n",
        "default_chain = \"facedetect,faceswap\"\n",
        "if enhacer_GFPGAN: default_chain += \",gfpgan\"\n",
        "elif enhacer_CodeFormer: default_chain += \",codeformer\"\n",
        "\n",
        "with open(\"roop/options/core.json\", \"w\") as write_file:\n",
        "    json.dump({\n",
        "        \"default_chain\": default_chain,\n",
        "        \"init_on_start\": \"faceswap\",\n",
        "        \"is_demo_row_render\": False,\n",
        "        \"v\": \"2.0\"\n",
        "    }, write_file, indent=2)\n",
        "\n",
        "#@markdown ---\n",
        "#@markdown *CodeFormer settings (only effective if enable CodeFormer)*\n",
        "enhance_background = True  # @param {type:\"boolean\"}\n",
        "upsample_face = True  # @param {type:\"boolean\"}\n",
        "skip_if_no_face = True  # @param {type:\"boolean\"}\n",
        "upscale_video = 2  # @param [1, 2, 3, 4]\n",
        "codeformer_fidelity = 0.8 #@param {type:\"slider\", min:0, max:1, step:0.05}\n",
        "\n",
        "if enhacer_CodeFormer:\n",
        "    with open(\"roop/options/codeformer.json\", \"w\") as write_file:\n",
        "        json.dump({\n",
        "            \"background_enhance\": enhance_background,\n",
        "            \"codeformer_fidelity\": codeformer_fidelity,\n",
        "            \"face_upsample\": upsample_face,\n",
        "            \"skip_if_no_face\": skip_if_no_face,\n",
        "            \"upscale\": int(upscale_video),\n",
        "            \"v\": \"2.0\"\n",
        "        }, write_file, indent=2)\n",
        "\n",
        "!OMP_NUM_THREADS=1 TF_CPP_MIN_LOG_LEVEL=2 python roop/run.py -f $face_image -t $video_file -o $output_vid $keep_fps_opt $all_faces_opt --gpu --gpu-threads $gpu_threads"
      ]
    }
  ],
  "metadata": {
    "accelerator": "GPU",
    "colab": {
      "private_outputs": true,
      "provenance": []
    },
    "kernelspec": {
      "display_name": "Python 3",
      "name": "python3"
    },
    "language_info": {
      "name": "python"
    }
  },
  "nbformat": 4,
  "nbformat_minor": 0
}
